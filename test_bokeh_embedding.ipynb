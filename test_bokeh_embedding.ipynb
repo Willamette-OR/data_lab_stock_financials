{
 "cells": [
  {
   "cell_type": "code",
   "execution_count": 6,
   "id": "c13d0c2e",
   "metadata": {},
   "outputs": [],
   "source": [
    "import json\n",
    "from bokeh.plotting import figure\n",
    "from bokeh.resources import CDN\n",
    "from bokeh.embed import json_item"
   ]
  },
  {
   "cell_type": "code",
   "execution_count": 2,
   "id": "f45380e4",
   "metadata": {},
   "outputs": [
    {
     "data": {
      "text/html": [
       "<div style=\"display: table;\"><div style=\"display: table-row;\"><div style=\"display: table-cell;\"><b title=\"bokeh.models.renderers.GlyphRenderer\">GlyphRenderer</b>(</div><div style=\"display: table-cell;\">id&nbsp;=&nbsp;'1037', <span id=\"1040\" style=\"cursor: pointer;\">&hellip;)</span></div></div><div class=\"1039\" style=\"display: none;\"><div style=\"display: table-cell;\"></div><div style=\"display: table-cell;\">coordinates&nbsp;=&nbsp;None,</div></div><div class=\"1039\" style=\"display: none;\"><div style=\"display: table-cell;\"></div><div style=\"display: table-cell;\">data_source&nbsp;=&nbsp;ColumnDataSource(id='1033', ...),</div></div><div class=\"1039\" style=\"display: none;\"><div style=\"display: table-cell;\"></div><div style=\"display: table-cell;\">glyph&nbsp;=&nbsp;Circle(id='1034', ...),</div></div><div class=\"1039\" style=\"display: none;\"><div style=\"display: table-cell;\"></div><div style=\"display: table-cell;\">group&nbsp;=&nbsp;None,</div></div><div class=\"1039\" style=\"display: none;\"><div style=\"display: table-cell;\"></div><div style=\"display: table-cell;\">hover_glyph&nbsp;=&nbsp;None,</div></div><div class=\"1039\" style=\"display: none;\"><div style=\"display: table-cell;\"></div><div style=\"display: table-cell;\">js_event_callbacks&nbsp;=&nbsp;{},</div></div><div class=\"1039\" style=\"display: none;\"><div style=\"display: table-cell;\"></div><div style=\"display: table-cell;\">js_property_callbacks&nbsp;=&nbsp;{},</div></div><div class=\"1039\" style=\"display: none;\"><div style=\"display: table-cell;\"></div><div style=\"display: table-cell;\">level&nbsp;=&nbsp;'glyph',</div></div><div class=\"1039\" style=\"display: none;\"><div style=\"display: table-cell;\"></div><div style=\"display: table-cell;\">muted&nbsp;=&nbsp;False,</div></div><div class=\"1039\" style=\"display: none;\"><div style=\"display: table-cell;\"></div><div style=\"display: table-cell;\">muted_glyph&nbsp;=&nbsp;Circle(id='1036', ...),</div></div><div class=\"1039\" style=\"display: none;\"><div style=\"display: table-cell;\"></div><div style=\"display: table-cell;\">name&nbsp;=&nbsp;None,</div></div><div class=\"1039\" style=\"display: none;\"><div style=\"display: table-cell;\"></div><div style=\"display: table-cell;\">nonselection_glyph&nbsp;=&nbsp;Circle(id='1035', ...),</div></div><div class=\"1039\" style=\"display: none;\"><div style=\"display: table-cell;\"></div><div style=\"display: table-cell;\">selection_glyph&nbsp;=&nbsp;'auto',</div></div><div class=\"1039\" style=\"display: none;\"><div style=\"display: table-cell;\"></div><div style=\"display: table-cell;\">subscribed_events&nbsp;=&nbsp;[],</div></div><div class=\"1039\" style=\"display: none;\"><div style=\"display: table-cell;\"></div><div style=\"display: table-cell;\">syncable&nbsp;=&nbsp;True,</div></div><div class=\"1039\" style=\"display: none;\"><div style=\"display: table-cell;\"></div><div style=\"display: table-cell;\">tags&nbsp;=&nbsp;[],</div></div><div class=\"1039\" style=\"display: none;\"><div style=\"display: table-cell;\"></div><div style=\"display: table-cell;\">view&nbsp;=&nbsp;CDSView(id='1038', ...),</div></div><div class=\"1039\" style=\"display: none;\"><div style=\"display: table-cell;\"></div><div style=\"display: table-cell;\">visible&nbsp;=&nbsp;True,</div></div><div class=\"1039\" style=\"display: none;\"><div style=\"display: table-cell;\"></div><div style=\"display: table-cell;\">x_range_name&nbsp;=&nbsp;'default',</div></div><div class=\"1039\" style=\"display: none;\"><div style=\"display: table-cell;\"></div><div style=\"display: table-cell;\">y_range_name&nbsp;=&nbsp;'default')</div></div></div>\n",
       "<script>\n",
       "(function() {\n",
       "  let expanded = false;\n",
       "  const ellipsis = document.getElementById(\"1040\");\n",
       "  ellipsis.addEventListener(\"click\", function() {\n",
       "    const rows = document.getElementsByClassName(\"1039\");\n",
       "    for (let i = 0; i < rows.length; i++) {\n",
       "      const el = rows[i];\n",
       "      el.style.display = expanded ? \"none\" : \"table-row\";\n",
       "    }\n",
       "    ellipsis.innerHTML = expanded ? \"&hellip;)\" : \"&lsaquo;&lsaquo;&lsaquo;\";\n",
       "    expanded = !expanded;\n",
       "  });\n",
       "})();\n",
       "</script>\n"
      ],
      "text/plain": [
       "GlyphRenderer(id='1037', ...)"
      ]
     },
     "execution_count": 2,
     "metadata": {},
     "output_type": "execute_result"
    }
   ],
   "source": [
    "plot = figure()\n",
    "plot.circle([1,2], [3,4])"
   ]
  },
  {
   "cell_type": "code",
   "execution_count": 9,
   "id": "8c4ee8e8",
   "metadata": {},
   "outputs": [
    {
     "name": "stdout",
     "output_type": "stream",
     "text": [
      "{\"target_id\": \"myplot\", \"root_id\": \"1002\", \"doc\": {\"defs\": [], \"roots\": {\"references\": [{\"attributes\": {}, \"id\": \"1007\", \"type\": \"LinearScale\"}, {\"attributes\": {\"axis\": {\"id\": \"1015\"}, \"coordinates\": null, \"dimension\": 1, \"group\": null, \"ticker\": null}, \"id\": \"1018\", \"type\": \"Grid\"}, {\"attributes\": {\"coordinates\": null, \"data_source\": {\"id\": \"1033\"}, \"glyph\": {\"id\": \"1034\"}, \"group\": null, \"hover_glyph\": null, \"muted_glyph\": {\"id\": \"1036\"}, \"nonselection_glyph\": {\"id\": \"1035\"}, \"view\": {\"id\": \"1038\"}}, \"id\": \"1037\", \"type\": \"GlyphRenderer\"}, {\"attributes\": {}, \"id\": \"1024\", \"type\": \"HelpTool\"}, {\"attributes\": {\"fill_alpha\": {\"value\": 0.2}, \"fill_color\": {\"value\": \"#1f77b4\"}, \"hatch_alpha\": {\"value\": 0.2}, \"line_alpha\": {\"value\": 0.2}, \"line_color\": {\"value\": \"#1f77b4\"}, \"x\": {\"field\": \"x\"}, \"y\": {\"field\": \"y\"}}, \"id\": \"1036\", \"type\": \"Circle\"}, {\"attributes\": {\"tools\": [{\"id\": \"1019\"}, {\"id\": \"1020\"}, {\"id\": \"1021\"}, {\"id\": \"1022\"}, {\"id\": \"1023\"}, {\"id\": \"1024\"}]}, \"id\": \"1026\", \"type\": \"Toolbar\"}, {\"attributes\": {}, \"id\": \"1020\", \"type\": \"WheelZoomTool\"}, {\"attributes\": {\"fill_color\": {\"value\": \"#1f77b4\"}, \"line_color\": {\"value\": \"#1f77b4\"}, \"x\": {\"field\": \"x\"}, \"y\": {\"field\": \"y\"}}, \"id\": \"1034\", \"type\": \"Circle\"}, {\"attributes\": {\"source\": {\"id\": \"1033\"}}, \"id\": \"1038\", \"type\": \"CDSView\"}, {\"attributes\": {}, \"id\": \"1019\", \"type\": \"PanTool\"}, {\"attributes\": {\"overlay\": {\"id\": \"1025\"}}, \"id\": \"1021\", \"type\": \"BoxZoomTool\"}, {\"attributes\": {}, \"id\": \"1022\", \"type\": \"SaveTool\"}, {\"attributes\": {\"coordinates\": null, \"group\": null}, \"id\": \"1041\", \"type\": \"Title\"}, {\"attributes\": {}, \"id\": \"1023\", \"type\": \"ResetTool\"}, {\"attributes\": {\"below\": [{\"id\": \"1011\"}], \"center\": [{\"id\": \"1014\"}, {\"id\": \"1018\"}], \"left\": [{\"id\": \"1015\"}], \"renderers\": [{\"id\": \"1037\"}], \"title\": {\"id\": \"1041\"}, \"toolbar\": {\"id\": \"1026\"}, \"x_range\": {\"id\": \"1003\"}, \"x_scale\": {\"id\": \"1007\"}, \"y_range\": {\"id\": \"1005\"}, \"y_scale\": {\"id\": \"1009\"}}, \"id\": \"1002\", \"subtype\": \"Figure\", \"type\": \"Plot\"}, {\"attributes\": {\"bottom_units\": \"screen\", \"coordinates\": null, \"fill_alpha\": 0.5, \"fill_color\": \"lightgrey\", \"group\": null, \"left_units\": \"screen\", \"level\": \"overlay\", \"line_alpha\": 1.0, \"line_color\": \"black\", \"line_dash\": [4, 4], \"line_width\": 2, \"right_units\": \"screen\", \"syncable\": false, \"top_units\": \"screen\"}, \"id\": \"1025\", \"type\": \"BoxAnnotation\"}, {\"attributes\": {}, \"id\": \"1045\", \"type\": \"AllLabels\"}, {\"attributes\": {}, \"id\": \"1047\", \"type\": \"BasicTickFormatter\"}, {\"attributes\": {}, \"id\": \"1009\", \"type\": \"LinearScale\"}, {\"attributes\": {}, \"id\": \"1049\", \"type\": \"UnionRenderers\"}, {\"attributes\": {\"fill_alpha\": {\"value\": 0.1}, \"fill_color\": {\"value\": \"#1f77b4\"}, \"hatch_alpha\": {\"value\": 0.1}, \"line_alpha\": {\"value\": 0.1}, \"line_color\": {\"value\": \"#1f77b4\"}, \"x\": {\"field\": \"x\"}, \"y\": {\"field\": \"y\"}}, \"id\": \"1035\", \"type\": \"Circle\"}, {\"attributes\": {\"coordinates\": null, \"formatter\": {\"id\": \"1047\"}, \"group\": null, \"major_label_policy\": {\"id\": \"1048\"}, \"ticker\": {\"id\": \"1012\"}}, \"id\": \"1011\", \"type\": \"LinearAxis\"}, {\"attributes\": {}, \"id\": \"1050\", \"type\": \"Selection\"}, {\"attributes\": {}, \"id\": \"1012\", \"type\": \"BasicTicker\"}, {\"attributes\": {}, \"id\": \"1048\", \"type\": \"AllLabels\"}, {\"attributes\": {}, \"id\": \"1003\", \"type\": \"DataRange1d\"}, {\"attributes\": {}, \"id\": \"1005\", \"type\": \"DataRange1d\"}, {\"attributes\": {}, \"id\": \"1044\", \"type\": \"BasicTickFormatter\"}, {\"attributes\": {\"coordinates\": null, \"formatter\": {\"id\": \"1044\"}, \"group\": null, \"major_label_policy\": {\"id\": \"1045\"}, \"ticker\": {\"id\": \"1016\"}}, \"id\": \"1015\", \"type\": \"LinearAxis\"}, {\"attributes\": {\"data\": {\"x\": [1, 2], \"y\": [3, 4]}, \"selected\": {\"id\": \"1050\"}, \"selection_policy\": {\"id\": \"1049\"}}, \"id\": \"1033\", \"type\": \"ColumnDataSource\"}, {\"attributes\": {\"axis\": {\"id\": \"1011\"}, \"coordinates\": null, \"group\": null, \"ticker\": null}, \"id\": \"1014\", \"type\": \"Grid\"}, {\"attributes\": {}, \"id\": \"1016\", \"type\": \"BasicTicker\"}], \"root_ids\": [\"1002\"]}, \"title\": \"\", \"version\": \"2.4.0\"}, \"version\": \"2.4.0\"}\n"
     ]
    }
   ],
   "source": [
    "item_text = json.dumps(json_item(plot, \"myplot\"))\n",
    "print(item_text)"
   ]
  }
 ],
 "metadata": {
  "kernelspec": {
   "display_name": "Python 3 (ipykernel)",
   "language": "python",
   "name": "python3"
  },
  "language_info": {
   "codemirror_mode": {
    "name": "ipython",
    "version": 3
   },
   "file_extension": ".py",
   "mimetype": "text/x-python",
   "name": "python",
   "nbconvert_exporter": "python",
   "pygments_lexer": "ipython3",
   "version": "3.8.10"
  }
 },
 "nbformat": 4,
 "nbformat_minor": 5
}
