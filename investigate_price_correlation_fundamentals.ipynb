{
 "cells": [
  {
   "cell_type": "markdown",
   "id": "58c815f8",
   "metadata": {},
   "source": [
    "# Investigate Price Correlations w/ Fundamentals"
   ]
  },
  {
   "cell_type": "markdown",
   "id": "6db736f1",
   "metadata": {},
   "source": [
    "### For each metric of interest, X:\n",
    "\n",
    "- create by-year metric data, X per share\n",
    "- calculate the average ratio for price-to-X\n",
    "- rate the price correlations using the following ways:\n",
    "    - calculate the correlation between price and X\n",
    "    - plot the price against the price-per-average-price-to-X-ratio"
   ]
  },
  {
   "cell_type": "code",
   "execution_count": 1,
   "id": "ee090ffd",
   "metadata": {},
   "outputs": [],
   "source": [
    "import json\n",
    "import requests\n",
    "import numpy as np\n",
    "import yfinance as yf\n",
    "from datetime import datetime"
   ]
  },
  {
   "cell_type": "markdown",
   "id": "d4f24046",
   "metadata": {},
   "source": [
    "## Determine the earliest dates of price and financials data to include in analysis"
   ]
  },
  {
   "cell_type": "code",
   "execution_count": 2,
   "id": "2dea1d00",
   "metadata": {},
   "outputs": [
    {
     "name": "stdout",
     "output_type": "stream",
     "text": [
      "Start date of quote history data: 2001-01-01 00:00:00\n",
      "Start year of financials history data: 2000\n"
     ]
    }
   ],
   "source": [
    "# set years interval for analysis\n",
    "analysis_interval_years = 20\n",
    "\n",
    "# get the earlist fiscal year accordingly\n",
    "start_year = datetime.utcnow().year - analysis_interval_years\n",
    "start_date_quote_history = datetime(start_year, 1, 1)\n",
    "start_year_financials_history = start_year - 1\n",
    "\n",
    "print(\"Start date of quote history data:\", start_date_quote_history)\n",
    "print(\"Start year of financials history data:\", start_year_financials_history)"
   ]
  },
  {
   "cell_type": "markdown",
   "id": "c4d175b1",
   "metadata": {},
   "source": [
    "## Pull and prep stock price data\n",
    "\n",
    "- Use Apple as an example for the code below"
   ]
  },
  {
   "cell_type": "markdown",
   "id": "cd0ed7ea",
   "metadata": {},
   "source": [
    "### <font color=blue>Helper functions</font>"
   ]
  },
  {
   "cell_type": "code",
   "execution_count": 5,
   "id": "72b4e6a5",
   "metadata": {},
   "outputs": [],
   "source": [
    "def get_payload_json_quote_history_from_yfinance_df(df_quote_history, header='Close'):\n",
    "    \"\"\"\n",
    "    This helper function gets a cleaned-up payload json/dict from the dataframe of \n",
    "    historical quotes, which is returned by yfinance api (yfinance.Ticker('<symbol>').history)\n",
    "    \"\"\"\n",
    "    \n",
    "    _payload_json = {}\n",
    "    _df = df_quote_history[header]\n",
    "    \n",
    "    # loop through all timestamps in the data:\n",
    "    for timestamp in dict(_df):\n",
    "        if not np.isnan(_df[timestamp]):\n",
    "            _payload_json[timestamp.to_pydatetime()] = _df[timestamp]\n",
    "            \n",
    "    return _payload_json\n",
    "\n",
    "\n",
    "def get_quote_history(symbol, interval='1mo', header='Close', \n",
    "                      start=start_date_quote_history.strftime('%Y-%m-%d'),\n",
    "                      end=datetime.utcnow().strftime('%Y-%m-%d')):\n",
    "    \"\"\"\n",
    "    This helper function pulls raw historical quote data using the YFinance API, \n",
    "    and returns the cleaned up data in a dictionary of \"<timestamp>: <price>\".\n",
    "    \"\"\"\n",
    "    \n",
    "    # initialize an yfinance object, and get the historical quote data \n",
    "    # from the API\n",
    "    yf_object = yf.Ticker(symbol)\n",
    "    df_quote_history = yf_object.history(interval=interval, start=start, end=end)\n",
    "    \n",
    "    # return a \"timestamp\": \"price\" dictionary from the dataframe of historical quotes\n",
    "    return get_payload_json_quote_history_from_yfinance_df(df_quote_history, \n",
    "                                                           header=header)\n",
    "\n",
    "\n",
    "# testing\n",
    "\n",
    "# aapl_quote_history = get_quote_history('AAPL')\n",
    "# aapl_quote_history\n",
    "\n",
    "# testing successful"
   ]
  },
  {
   "cell_type": "code",
   "execution_count": null,
   "id": "dcf19ffc",
   "metadata": {},
   "outputs": [],
   "source": []
  }
 ],
 "metadata": {
  "kernelspec": {
   "display_name": "Python 3 (ipykernel)",
   "language": "python",
   "name": "python3"
  },
  "language_info": {
   "codemirror_mode": {
    "name": "ipython",
    "version": 3
   },
   "file_extension": ".py",
   "mimetype": "text/x-python",
   "name": "python",
   "nbconvert_exporter": "python",
   "pygments_lexer": "ipython3",
   "version": "3.8.10"
  }
 },
 "nbformat": 4,
 "nbformat_minor": 5
}
