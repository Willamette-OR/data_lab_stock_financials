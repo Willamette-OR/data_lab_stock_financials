{
 "cells": [
  {
   "cell_type": "markdown",
   "id": "330914e6",
   "metadata": {},
   "source": [
    "# Test different stock APIs for data such as company info, highlights, etc."
   ]
  },
  {
   "cell_type": "code",
   "execution_count": 1,
   "id": "0e5bec7a",
   "metadata": {},
   "outputs": [],
   "source": [
    "from yahoo_fin import stock_info"
   ]
  },
  {
   "cell_type": "markdown",
   "id": "ad12dfac",
   "metadata": {},
   "source": [
    "## <font color=blue>Company info, using Apple as an example</font>"
   ]
  },
  {
   "cell_type": "code",
   "execution_count": 2,
   "id": "a4bf2429",
   "metadata": {},
   "outputs": [],
   "source": [
    "symbol = 'AAPL'"
   ]
  },
  {
   "cell_type": "markdown",
   "id": "861e7308",
   "metadata": {},
   "source": [
    "### Test the yahoo_fin library & Yahoo Finance API"
   ]
  },
  {
   "cell_type": "code",
   "execution_count": 3,
   "id": "5920b2ad",
   "metadata": {},
   "outputs": [
    {
     "data": {
      "text/html": [
       "<div>\n",
       "<style scoped>\n",
       "    .dataframe tbody tr th:only-of-type {\n",
       "        vertical-align: middle;\n",
       "    }\n",
       "\n",
       "    .dataframe tbody tr th {\n",
       "        vertical-align: top;\n",
       "    }\n",
       "\n",
       "    .dataframe thead th {\n",
       "        text-align: right;\n",
       "    }\n",
       "</style>\n",
       "<table border=\"1\" class=\"dataframe\">\n",
       "  <thead>\n",
       "    <tr style=\"text-align: right;\">\n",
       "      <th></th>\n",
       "      <th>Value</th>\n",
       "    </tr>\n",
       "    <tr>\n",
       "      <th>Breakdown</th>\n",
       "      <th></th>\n",
       "    </tr>\n",
       "  </thead>\n",
       "  <tbody>\n",
       "    <tr>\n",
       "      <th>zip</th>\n",
       "      <td>95014</td>\n",
       "    </tr>\n",
       "    <tr>\n",
       "      <th>sector</th>\n",
       "      <td>Technology</td>\n",
       "    </tr>\n",
       "    <tr>\n",
       "      <th>fullTimeEmployees</th>\n",
       "      <td>154000</td>\n",
       "    </tr>\n",
       "    <tr>\n",
       "      <th>compensationRisk</th>\n",
       "      <td>2</td>\n",
       "    </tr>\n",
       "    <tr>\n",
       "      <th>auditRisk</th>\n",
       "      <td>4</td>\n",
       "    </tr>\n",
       "    <tr>\n",
       "      <th>longBusinessSummary</th>\n",
       "      <td>Apple Inc. designs, manufactures, and markets ...</td>\n",
       "    </tr>\n",
       "    <tr>\n",
       "      <th>city</th>\n",
       "      <td>Cupertino</td>\n",
       "    </tr>\n",
       "    <tr>\n",
       "      <th>phone</th>\n",
       "      <td>408 996 1010</td>\n",
       "    </tr>\n",
       "    <tr>\n",
       "      <th>state</th>\n",
       "      <td>CA</td>\n",
       "    </tr>\n",
       "    <tr>\n",
       "      <th>shareHolderRightsRisk</th>\n",
       "      <td>1</td>\n",
       "    </tr>\n",
       "    <tr>\n",
       "      <th>compensationAsOfEpochDate</th>\n",
       "      <td>1609372800</td>\n",
       "    </tr>\n",
       "    <tr>\n",
       "      <th>governanceEpochDate</th>\n",
       "      <td>1632614400</td>\n",
       "    </tr>\n",
       "    <tr>\n",
       "      <th>boardRisk</th>\n",
       "      <td>1</td>\n",
       "    </tr>\n",
       "    <tr>\n",
       "      <th>country</th>\n",
       "      <td>United States</td>\n",
       "    </tr>\n",
       "    <tr>\n",
       "      <th>website</th>\n",
       "      <td>http://www.apple.com</td>\n",
       "    </tr>\n",
       "    <tr>\n",
       "      <th>maxAge</th>\n",
       "      <td>86400</td>\n",
       "    </tr>\n",
       "    <tr>\n",
       "      <th>overallRisk</th>\n",
       "      <td>1</td>\n",
       "    </tr>\n",
       "    <tr>\n",
       "      <th>address1</th>\n",
       "      <td>One Apple Park Way</td>\n",
       "    </tr>\n",
       "    <tr>\n",
       "      <th>industry</th>\n",
       "      <td>Consumer Electronics</td>\n",
       "    </tr>\n",
       "  </tbody>\n",
       "</table>\n",
       "</div>"
      ],
      "text/plain": [
       "                                                                       Value\n",
       "Breakdown                                                                   \n",
       "zip                                                                    95014\n",
       "sector                                                            Technology\n",
       "fullTimeEmployees                                                     154000\n",
       "compensationRisk                                                           2\n",
       "auditRisk                                                                  4\n",
       "longBusinessSummary        Apple Inc. designs, manufactures, and markets ...\n",
       "city                                                               Cupertino\n",
       "phone                                                           408 996 1010\n",
       "state                                                                     CA\n",
       "shareHolderRightsRisk                                                      1\n",
       "compensationAsOfEpochDate                                         1609372800\n",
       "governanceEpochDate                                               1632614400\n",
       "boardRisk                                                                  1\n",
       "country                                                        United States\n",
       "website                                                 http://www.apple.com\n",
       "maxAge                                                                 86400\n",
       "overallRisk                                                                1\n",
       "address1                                                  One Apple Park Way\n",
       "industry                                                Consumer Electronics"
      ]
     },
     "execution_count": 3,
     "metadata": {},
     "output_type": "execute_result"
    }
   ],
   "source": [
    "stock_info.get_company_info(symbol)"
   ]
  },
  {
   "cell_type": "markdown",
   "id": "8868f45a",
   "metadata": {},
   "source": [
    "## <font color=blue>Snapshot of simple quote data, such as market cap, dividend yield, etc. which I'd like to put on the summary page of stocks</font>"
   ]
  },
  {
   "cell_type": "markdown",
   "id": "e9944a73",
   "metadata": {},
   "source": [
    "### Test the yahoo_fin library & Yahoo Finance API"
   ]
  },
  {
   "cell_type": "code",
   "execution_count": 6,
   "id": "11093ca5",
   "metadata": {
    "scrolled": true
   },
   "outputs": [
    {
     "data": {
      "text/plain": [
       "{'language': 'en-US',\n",
       " 'region': 'US',\n",
       " 'quoteType': 'EQUITY',\n",
       " 'quoteSourceName': 'Nasdaq Real Time Price',\n",
       " 'triggerable': True,\n",
       " 'epsTrailingTwelveMonths': 5.61,\n",
       " 'epsForward': 6.15,\n",
       " 'epsCurrentYear': 5.74,\n",
       " 'priceEpsCurrentYear': 27.987804,\n",
       " 'sharesOutstanding': 16406400000,\n",
       " 'bookValue': 3.841,\n",
       " 'fiftyDayAverage': 147.8676,\n",
       " 'fiftyDayAverageChange': 12.782394,\n",
       " 'fiftyDayAverageChangePercent': 0.08644486,\n",
       " 'twoHundredDayAverage': 137.94514,\n",
       " 'twoHundredDayAverageChange': 22.70485,\n",
       " 'twoHundredDayAverageChangePercent': 0.16459332,\n",
       " 'marketCap': 2635688050688,\n",
       " 'forwardPE': 26.12195,\n",
       " 'priceToBook': 41.825043,\n",
       " 'sourceInterval': 15,\n",
       " 'exchangeDataDelayedBy': 0,\n",
       " 'pageViewGrowthWeekly': -0.04692518,\n",
       " 'averageAnalystRating': '1.9 - Buy',\n",
       " 'firstTradeDateMilliseconds': 345479400000,\n",
       " 'priceHint': 2,\n",
       " 'regularMarketChange': -0.76000977,\n",
       " 'regularMarketChangePercent': -0.47085667,\n",
       " 'regularMarketTime': 1637768262,\n",
       " 'regularMarketPrice': 160.65,\n",
       " 'regularMarketDayHigh': 161.41,\n",
       " 'regularMarketDayRange': '159.64 - 161.41',\n",
       " 'regularMarketDayLow': 159.64,\n",
       " 'regularMarketVolume': 19580227,\n",
       " 'regularMarketPreviousClose': 161.41,\n",
       " 'bid': 160.03,\n",
       " 'ask': 160.1,\n",
       " 'bidSize': 13,\n",
       " 'askSize': 14,\n",
       " 'fullExchangeName': 'NasdaqGS',\n",
       " 'financialCurrency': 'USD',\n",
       " 'regularMarketOpen': 160.75,\n",
       " 'averageDailyVolume3Month': 77880857,\n",
       " 'averageDailyVolume10Day': 84548270,\n",
       " 'fiftyTwoWeekLowChange': 45.479996,\n",
       " 'fiftyTwoWeekLowChangePercent': 0.39489448,\n",
       " 'fiftyTwoWeekRange': '115.17 - 165.7',\n",
       " 'fiftyTwoWeekHighChange': -5.050003,\n",
       " 'fiftyTwoWeekHighChangePercent': -0.030476784,\n",
       " 'fiftyTwoWeekLow': 115.17,\n",
       " 'fiftyTwoWeekHigh': 165.7,\n",
       " 'dividendDate': 1636588800,\n",
       " 'earningsTimestamp': 1635438600,\n",
       " 'earningsTimestampStart': 1643108340,\n",
       " 'earningsTimestampEnd': 1643630400,\n",
       " 'trailingAnnualDividendRate': 0.85,\n",
       " 'trailingPE': 28.636362,\n",
       " 'trailingAnnualDividendYield': 0.0052660927,\n",
       " 'currency': 'USD',\n",
       " 'exchange': 'NMS',\n",
       " 'longName': 'Apple Inc.',\n",
       " 'messageBoardId': 'finmb_24937',\n",
       " 'exchangeTimezoneName': 'America/New_York',\n",
       " 'exchangeTimezoneShortName': 'EST',\n",
       " 'gmtOffSetMilliseconds': -18000000,\n",
       " 'market': 'us_market',\n",
       " 'esgPopulated': False,\n",
       " 'tradeable': False,\n",
       " 'shortName': 'Apple Inc.',\n",
       " 'marketState': 'REGULAR',\n",
       " 'displayName': 'Apple',\n",
       " 'symbol': 'AAPL'}"
      ]
     },
     "execution_count": 6,
     "metadata": {},
     "output_type": "execute_result"
    }
   ],
   "source": [
    "stock_info.get_quote_data(symbol)"
   ]
  },
  {
   "cell_type": "code",
   "execution_count": 7,
   "id": "b8a4f9e4",
   "metadata": {},
   "outputs": [
    {
     "data": {
      "text/plain": [
       "{'1y Target Est': 168.45,\n",
       " '52 Week Range': '115.17 - 165.70',\n",
       " 'Ask': '160.14 x 1400',\n",
       " 'Avg. Volume': 77880857.0,\n",
       " 'Beta (5Y Monthly)': 1.21,\n",
       " 'Bid': '160.11 x 1300',\n",
       " \"Day's Range\": '159.64 - 161.41',\n",
       " 'EPS (TTM)': 5.61,\n",
       " 'Earnings Date': 'Jan 25, 2022 - Jan 31, 2022',\n",
       " 'Ex-Dividend Date': 'Nov 05, 2021',\n",
       " 'Forward Dividend & Yield': '0.88 (0.55%)',\n",
       " 'Market Cap': '2.639T',\n",
       " 'Open': 160.75,\n",
       " 'PE Ratio (TTM)': 28.67,\n",
       " 'Previous Close': 161.41,\n",
       " 'Quote Price': 160.83200073242188,\n",
       " 'Volume': 19958104.0}"
      ]
     },
     "execution_count": 7,
     "metadata": {},
     "output_type": "execute_result"
    }
   ],
   "source": [
    "stock_info.get_quote_table(symbol)"
   ]
  },
  {
   "cell_type": "markdown",
   "id": "8ae259b5",
   "metadata": {},
   "source": [
    "### <font color=blue>For the yahoo_fin library, \"stock_info.get_quote_table(symbol)\" seems to provide most of what is needed for stock summaries"
   ]
  },
  {
   "cell_type": "code",
   "execution_count": null,
   "id": "8b415ce0",
   "metadata": {},
   "outputs": [],
   "source": []
  }
 ],
 "metadata": {
  "kernelspec": {
   "display_name": "Python 3 (ipykernel)",
   "language": "python",
   "name": "python3"
  },
  "language_info": {
   "codemirror_mode": {
    "name": "ipython",
    "version": 3
   },
   "file_extension": ".py",
   "mimetype": "text/x-python",
   "name": "python",
   "nbconvert_exporter": "python",
   "pygments_lexer": "ipython3",
   "version": "3.8.10"
  }
 },
 "nbformat": 4,
 "nbformat_minor": 5
}
